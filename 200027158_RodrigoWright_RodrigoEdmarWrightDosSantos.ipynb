{
 "cells": [
  {
   "cell_type": "markdown",
   "id": "61d43c61",
   "metadata": {},
   "source": [
    "# Aluno\n",
    "\n",
    "Nome: Rodrigo Edmar Wright Dos Santos\n",
    "</br> Matrícula: 200027158"
   ]
  },
  {
   "cell_type": "markdown",
   "id": "ac9048c5",
   "metadata": {},
   "source": [
    "# Objetivo"
   ]
  },
  {
   "cell_type": "markdown",
   "id": "bdee59ed",
   "metadata": {},
   "source": [
    "O objetivo deste artigo é ver se uma I.A. consegue identificar padrões no mercado de bitcoins."
   ]
  },
  {
   "cell_type": "markdown",
   "id": "b035215c",
   "metadata": {},
   "source": [
    "# Motivação"
   ]
  },
  {
   "cell_type": "markdown",
   "id": "26aadd37",
   "metadata": {},
   "source": [
    "O mercado de bitcoins é muito conhecido por ser imprevisível e difícil de lidar. Então surgiu a ideia de criar uma inteligência artifícial para calcular o mercado, para ver se a máquina é capaz de encontrar padrões que não são perceptíveis para o ser humano.\n",
    "\n",
    "Para isso, utilizaremos o dataset disponível na Kaggle [Bitcoin data](https://www.kaggle.com/datasets/sushilkumarinfo/bitcoin-data-from-9thapr2014-to-30thdec2022?resource=download) que reúne todos os dados relevantes sobre bitcoin desde 2014 até 2022."
   ]
  },
  {
   "cell_type": "markdown",
   "id": "8c25b036",
   "metadata": {},
   "source": [
    "# Configurando o ambiente"
   ]
  },
  {
   "cell_type": "markdown",
   "id": "52104901",
   "metadata": {},
   "source": [
    "Primeiramente devemos instalar as dependencias que serão usadas:"
   ]
  },
  {
   "cell_type": "code",
   "execution_count": 23,
   "id": "1aea037d",
   "metadata": {},
   "outputs": [],
   "source": [
    "!pip install -Uqq fastai\n",
    "import torch, numpy as np, pandas as pd\n",
    "np.set_printoptions(linewidth=140)\n",
    "torch.set_printoptions(linewidth=140, sci_mode=False, edgeitems=7)\n",
    "pd.set_option('display.width', 140)"
   ]
  },
  {
   "cell_type": "code",
   "execution_count": 24,
   "id": "8dbb1025",
   "metadata": {},
   "outputs": [],
   "source": [
    "from torch import tensor"
   ]
  },
  {
   "cell_type": "code",
   "execution_count": 53,
   "id": "07fda5c4",
   "metadata": {},
   "outputs": [],
   "source": [
    "from fastai.data.transforms import RandomSplitter"
   ]
  },
  {
   "cell_type": "code",
   "execution_count": 65,
   "id": "264ff0a8",
   "metadata": {},
   "outputs": [
    {
     "ename": "ModuleNotFoundError",
     "evalue": "No module named 'sympy'",
     "output_type": "error",
     "traceback": [
      "\u001b[0;31m---------------------------------------------------------------------------\u001b[0m",
      "\u001b[0;31mModuleNotFoundError\u001b[0m                       Traceback (most recent call last)",
      "Cell \u001b[0;32mIn [65], line 1\u001b[0m\n\u001b[0;32m----> 1\u001b[0m \u001b[38;5;28;01mimport\u001b[39;00m \u001b[38;5;21;01msympy\u001b[39;00m\n",
      "\u001b[0;31mModuleNotFoundError\u001b[0m: No module named 'sympy'"
     ]
    }
   ],
   "source": [
    "import sympy"
   ]
  },
  {
   "cell_type": "markdown",
   "id": "f535e7a3",
   "metadata": {},
   "source": [
    "Também é importante definir a pasta onde serão armazenados os dados."
   ]
  },
  {
   "cell_type": "code",
   "execution_count": 25,
   "id": "ce56dc52",
   "metadata": {},
   "outputs": [],
   "source": [
    "from pathlib import Path\n",
    "path = Path('Bitcoin')"
   ]
  },
  {
   "cell_type": "markdown",
   "id": "b6c350e5",
   "metadata": {},
   "source": [
    "# Limpando os dados"
   ]
  },
  {
   "cell_type": "markdown",
   "id": "b9b6dbed",
   "metadata": {},
   "source": [
    "Os dados fornecidos estão no formato CSV (comma separeted values, ou valores separados por vírgula), e podem ser manipulados com a biblioteca préviamente instalada Pandas. Ao abrir usando o Pandas será gerado um Data Frame."
   ]
  },
  {
   "cell_type": "code",
   "execution_count": 26,
   "id": "c46c2a02",
   "metadata": {},
   "outputs": [
    {
     "data": {
      "text/html": [
       "<div>\n",
       "<style scoped>\n",
       "    .dataframe tbody tr th:only-of-type {\n",
       "        vertical-align: middle;\n",
       "    }\n",
       "\n",
       "    .dataframe tbody tr th {\n",
       "        vertical-align: top;\n",
       "    }\n",
       "\n",
       "    .dataframe thead th {\n",
       "        text-align: right;\n",
       "    }\n",
       "</style>\n",
       "<table border=\"1\" class=\"dataframe\">\n",
       "  <thead>\n",
       "    <tr style=\"text-align: right;\">\n",
       "      <th></th>\n",
       "      <th>Date</th>\n",
       "      <th>priceUSD</th>\n",
       "      <th>size</th>\n",
       "      <th>sentbyaddress</th>\n",
       "      <th>transactions</th>\n",
       "      <th>mining_profitability</th>\n",
       "      <th>sentinusd</th>\n",
       "      <th>transactionfees</th>\n",
       "      <th>median_transaction_fee</th>\n",
       "      <th>confirmationtime</th>\n",
       "      <th>marketcap</th>\n",
       "      <th>transactionvalue</th>\n",
       "      <th>mediantransactionvalue</th>\n",
       "      <th>tweets</th>\n",
       "      <th>google_trends</th>\n",
       "      <th>fee_to_reward</th>\n",
       "      <th>activeaddresses</th>\n",
       "      <th>top100cap</th>\n",
       "    </tr>\n",
       "  </thead>\n",
       "  <tbody>\n",
       "    <tr>\n",
       "      <th>0</th>\n",
       "      <td>2014/04/09</td>\n",
       "      <td>447.11</td>\n",
       "      <td>243742.0</td>\n",
       "      <td>122401</td>\n",
       "      <td>64992</td>\n",
       "      <td>38678.0000</td>\n",
       "      <td>2.392120e+08</td>\n",
       "      <td>139.0000</td>\n",
       "      <td>0.0447</td>\n",
       "      <td>8944.00</td>\n",
       "      <td>5587996110</td>\n",
       "      <td>4115.0</td>\n",
       "      <td>100.42</td>\n",
       "      <td>8193</td>\n",
       "      <td>11193.0</td>\n",
       "      <td>502.00</td>\n",
       "      <td>179274</td>\n",
       "      <td>19211.0</td>\n",
       "    </tr>\n",
       "    <tr>\n",
       "      <th>1</th>\n",
       "      <td>2014/04/10</td>\n",
       "      <td>407703.00</td>\n",
       "      <td>254334.0</td>\n",
       "      <td>124298</td>\n",
       "      <td>67872</td>\n",
       "      <td>31917.0000</td>\n",
       "      <td>3.103671e+08</td>\n",
       "      <td>0.0864</td>\n",
       "      <td>0.0408</td>\n",
       "      <td>9.29</td>\n",
       "      <td>5020359905</td>\n",
       "      <td>4876.0</td>\n",
       "      <td>120946.00</td>\n",
       "      <td>15039</td>\n",
       "      <td>13854.0</td>\n",
       "      <td>371.00</td>\n",
       "      <td>182996</td>\n",
       "      <td>19166.0</td>\n",
       "    </tr>\n",
       "    <tr>\n",
       "      <th>2</th>\n",
       "      <td>2014/04/11</td>\n",
       "      <td>403328.00</td>\n",
       "      <td>223656.0</td>\n",
       "      <td>117926</td>\n",
       "      <td>65563</td>\n",
       "      <td>36814.0000</td>\n",
       "      <td>2.927563e+08</td>\n",
       "      <td>0.0858</td>\n",
       "      <td>0.0403</td>\n",
       "      <td>8521.00</td>\n",
       "      <td>5068919648</td>\n",
       "      <td>4819.0</td>\n",
       "      <td>108481.00</td>\n",
       "      <td>14907</td>\n",
       "      <td>12997.0</td>\n",
       "      <td>0.33</td>\n",
       "      <td>169622</td>\n",
       "      <td>19141.0</td>\n",
       "    </tr>\n",
       "    <tr>\n",
       "      <th>3</th>\n",
       "      <td>2014/04/12</td>\n",
       "      <td>425.31</td>\n",
       "      <td>169964.0</td>\n",
       "      <td>87828</td>\n",
       "      <td>47579</td>\n",
       "      <td>34498.0000</td>\n",
       "      <td>1.572647e+08</td>\n",
       "      <td>0.0811</td>\n",
       "      <td>0.0425</td>\n",
       "      <td>8944.00</td>\n",
       "      <td>5329088351</td>\n",
       "      <td>3574.0</td>\n",
       "      <td>84408.00</td>\n",
       "      <td>7582</td>\n",
       "      <td>9229.0</td>\n",
       "      <td>226.00</td>\n",
       "      <td>132283</td>\n",
       "      <td>19145.0</td>\n",
       "    </tr>\n",
       "    <tr>\n",
       "      <th>4</th>\n",
       "      <td>2014/04/13</td>\n",
       "      <td>415876.00</td>\n",
       "      <td>162260.0</td>\n",
       "      <td>94828</td>\n",
       "      <td>50981</td>\n",
       "      <td>34141.0000</td>\n",
       "      <td>1.547564e+08</td>\n",
       "      <td>84.0000</td>\n",
       "      <td>0.0416</td>\n",
       "      <td>7701.00</td>\n",
       "      <td>5150414718</td>\n",
       "      <td>3332.0</td>\n",
       "      <td>69681.00</td>\n",
       "      <td>10674</td>\n",
       "      <td>10385.0</td>\n",
       "      <td>221.00</td>\n",
       "      <td>172708</td>\n",
       "      <td>19131.0</td>\n",
       "    </tr>\n",
       "    <tr>\n",
       "      <th>...</th>\n",
       "      <td>...</td>\n",
       "      <td>...</td>\n",
       "      <td>...</td>\n",
       "      <td>...</td>\n",
       "      <td>...</td>\n",
       "      <td>...</td>\n",
       "      <td>...</td>\n",
       "      <td>...</td>\n",
       "      <td>...</td>\n",
       "      <td>...</td>\n",
       "      <td>...</td>\n",
       "      <td>...</td>\n",
       "      <td>...</td>\n",
       "      <td>...</td>\n",
       "      <td>...</td>\n",
       "      <td>...</td>\n",
       "      <td>...</td>\n",
       "      <td>...</td>\n",
       "    </tr>\n",
       "    <tr>\n",
       "      <th>3173</th>\n",
       "      <td>2022/12/16</td>\n",
       "      <td>17100.00</td>\n",
       "      <td>660280.0</td>\n",
       "      <td>542123</td>\n",
       "      <td>254046</td>\n",
       "      <td>0.0562</td>\n",
       "      <td>6.612437e+09</td>\n",
       "      <td>1115.0000</td>\n",
       "      <td>462.0000</td>\n",
       "      <td>11077.00</td>\n",
       "      <td>328931567036</td>\n",
       "      <td>75525.0</td>\n",
       "      <td>500.98</td>\n",
       "      <td>108929</td>\n",
       "      <td>19909.0</td>\n",
       "      <td>1999.00</td>\n",
       "      <td>763567</td>\n",
       "      <td>14816.0</td>\n",
       "    </tr>\n",
       "    <tr>\n",
       "      <th>3174</th>\n",
       "      <td>2022/12/17</td>\n",
       "      <td>16699.00</td>\n",
       "      <td>703268.0</td>\n",
       "      <td>536035</td>\n",
       "      <td>263062</td>\n",
       "      <td>0.0679</td>\n",
       "      <td>4.970511e+09</td>\n",
       "      <td>1107.0000</td>\n",
       "      <td>471.0000</td>\n",
       "      <td>10435.00</td>\n",
       "      <td>321216328776</td>\n",
       "      <td>49982.0</td>\n",
       "      <td>361097.00</td>\n",
       "      <td>89303</td>\n",
       "      <td>17697.0</td>\n",
       "      <td>1982.00</td>\n",
       "      <td>846989</td>\n",
       "      <td>14752.0</td>\n",
       "    </tr>\n",
       "    <tr>\n",
       "      <th>3175</th>\n",
       "      <td>2022/12/18</td>\n",
       "      <td>16736.00</td>\n",
       "      <td>511467.0</td>\n",
       "      <td>439567</td>\n",
       "      <td>212528</td>\n",
       "      <td>65.0000</td>\n",
       "      <td>3.493454e+09</td>\n",
       "      <td>912.0000</td>\n",
       "      <td>377.0000</td>\n",
       "      <td>9931.00</td>\n",
       "      <td>321956223728</td>\n",
       "      <td>55620.0</td>\n",
       "      <td>400564.00</td>\n",
       "      <td>81518</td>\n",
       "      <td>15485.0</td>\n",
       "      <td>1263.00</td>\n",
       "      <td>691511</td>\n",
       "      <td>14731.0</td>\n",
       "    </tr>\n",
       "    <tr>\n",
       "      <th>3176</th>\n",
       "      <td>2022/12/19</td>\n",
       "      <td>16679.00</td>\n",
       "      <td>706111.0</td>\n",
       "      <td>484919</td>\n",
       "      <td>258960</td>\n",
       "      <td>0.0569</td>\n",
       "      <td>6.191116e+09</td>\n",
       "      <td>1164.0000</td>\n",
       "      <td>0.4500</td>\n",
       "      <td>10588.00</td>\n",
       "      <td>320876529094</td>\n",
       "      <td>67503.0</td>\n",
       "      <td>447028.00</td>\n",
       "      <td>100038</td>\n",
       "      <td>17697.0</td>\n",
       "      <td>2083.00</td>\n",
       "      <td>804421</td>\n",
       "      <td>14672.0</td>\n",
       "    </tr>\n",
       "    <tr>\n",
       "      <th>3177</th>\n",
       "      <td>2022/12/20</td>\n",
       "      <td>16788.00</td>\n",
       "      <td>665567.0</td>\n",
       "      <td>510455</td>\n",
       "      <td>268753</td>\n",
       "      <td>63.0000</td>\n",
       "      <td>6.787239e+09</td>\n",
       "      <td>1128.0000</td>\n",
       "      <td>0.4700</td>\n",
       "      <td>10286.00</td>\n",
       "      <td>322974092809</td>\n",
       "      <td>61942.0</td>\n",
       "      <td>449.51</td>\n",
       "      <td>90756</td>\n",
       "      <td>18329.0</td>\n",
       "      <td>2022.00</td>\n",
       "      <td>815486</td>\n",
       "      <td>14681.0</td>\n",
       "    </tr>\n",
       "  </tbody>\n",
       "</table>\n",
       "<p>3178 rows × 18 columns</p>\n",
       "</div>"
      ],
      "text/plain": [
       "            Date   priceUSD      size  sentbyaddress  transactions  mining_profitability     sentinusd  transactionfees  \\\n",
       "0     2014/04/09     447.11  243742.0         122401         64992            38678.0000  2.392120e+08         139.0000   \n",
       "1     2014/04/10  407703.00  254334.0         124298         67872            31917.0000  3.103671e+08           0.0864   \n",
       "2     2014/04/11  403328.00  223656.0         117926         65563            36814.0000  2.927563e+08           0.0858   \n",
       "3     2014/04/12     425.31  169964.0          87828         47579            34498.0000  1.572647e+08           0.0811   \n",
       "4     2014/04/13  415876.00  162260.0          94828         50981            34141.0000  1.547564e+08          84.0000   \n",
       "...          ...        ...       ...            ...           ...                   ...           ...              ...   \n",
       "3173  2022/12/16   17100.00  660280.0         542123        254046                0.0562  6.612437e+09        1115.0000   \n",
       "3174  2022/12/17   16699.00  703268.0         536035        263062                0.0679  4.970511e+09        1107.0000   \n",
       "3175  2022/12/18   16736.00  511467.0         439567        212528               65.0000  3.493454e+09         912.0000   \n",
       "3176  2022/12/19   16679.00  706111.0         484919        258960                0.0569  6.191116e+09        1164.0000   \n",
       "3177  2022/12/20   16788.00  665567.0         510455        268753               63.0000  6.787239e+09        1128.0000   \n",
       "\n",
       "      median_transaction_fee  confirmationtime     marketcap  transactionvalue  mediantransactionvalue  tweets  google_trends  \\\n",
       "0                     0.0447           8944.00    5587996110            4115.0                  100.42    8193        11193.0   \n",
       "1                     0.0408              9.29    5020359905            4876.0               120946.00   15039        13854.0   \n",
       "2                     0.0403           8521.00    5068919648            4819.0               108481.00   14907        12997.0   \n",
       "3                     0.0425           8944.00    5329088351            3574.0                84408.00    7582         9229.0   \n",
       "4                     0.0416           7701.00    5150414718            3332.0                69681.00   10674        10385.0   \n",
       "...                      ...               ...           ...               ...                     ...     ...            ...   \n",
       "3173                462.0000          11077.00  328931567036           75525.0                  500.98  108929        19909.0   \n",
       "3174                471.0000          10435.00  321216328776           49982.0               361097.00   89303        17697.0   \n",
       "3175                377.0000           9931.00  321956223728           55620.0               400564.00   81518        15485.0   \n",
       "3176                  0.4500          10588.00  320876529094           67503.0               447028.00  100038        17697.0   \n",
       "3177                  0.4700          10286.00  322974092809           61942.0                  449.51   90756        18329.0   \n",
       "\n",
       "      fee_to_reward  activeaddresses  top100cap  \n",
       "0            502.00           179274    19211.0  \n",
       "1            371.00           182996    19166.0  \n",
       "2              0.33           169622    19141.0  \n",
       "3            226.00           132283    19145.0  \n",
       "4            221.00           172708    19131.0  \n",
       "...             ...              ...        ...  \n",
       "3173        1999.00           763567    14816.0  \n",
       "3174        1982.00           846989    14752.0  \n",
       "3175        1263.00           691511    14731.0  \n",
       "3176        2083.00           804421    14672.0  \n",
       "3177        2022.00           815486    14681.0  \n",
       "\n",
       "[3178 rows x 18 columns]"
      ]
     },
     "execution_count": 26,
     "metadata": {},
     "output_type": "execute_result"
    }
   ],
   "source": [
    "df = pd.read_csv(path/'BTC_Data_final.csv')\n",
    "df"
   ]
  },
  {
   "cell_type": "markdown",
   "id": "a5c70ee6",
   "metadata": {},
   "source": [
    "## Verificação de dados"
   ]
  },
  {
   "cell_type": "markdown",
   "id": "1477c145",
   "metadata": {},
   "source": [
    "Para prosseguirmos precisamos saber se existe algum dado inválido, no caso ele estará como NAN (not a number, ou não é um número). Precisamos tratar este tipo de dado agora pois ele não poderá ser manipulado corretamente no futuro e pode gerar problemas."
   ]
  },
  {
   "cell_type": "code",
   "execution_count": 27,
   "id": "20d2613e",
   "metadata": {},
   "outputs": [
    {
     "data": {
      "text/plain": [
       "Date                      0\n",
       "priceUSD                  0\n",
       "size                      0\n",
       "sentbyaddress             0\n",
       "transactions              0\n",
       "mining_profitability      0\n",
       "sentinusd                 0\n",
       "transactionfees           0\n",
       "median_transaction_fee    0\n",
       "confirmationtime          0\n",
       "marketcap                 0\n",
       "transactionvalue          0\n",
       "mediantransactionvalue    0\n",
       "tweets                    0\n",
       "google_trends             0\n",
       "fee_to_reward             0\n",
       "activeaddresses           0\n",
       "top100cap                 0\n",
       "dtype: int64"
      ]
     },
     "execution_count": 27,
     "metadata": {},
     "output_type": "execute_result"
    }
   ],
   "source": [
    "df.isna().sum()"
   ]
  },
  {
   "cell_type": "markdown",
   "id": "4dc3b86c",
   "metadata": {},
   "source": [
    "## Variação de valores"
   ]
  },
  {
   "cell_type": "markdown",
   "id": "ff187564",
   "metadata": {},
   "source": [
    "Como podemos perceber acima, não temos valores inválidos no arquivo, portanto podemos prosseguir visualizando os valores numéricos das colunas do dataset."
   ]
  },
  {
   "cell_type": "code",
   "execution_count": 28,
   "id": "7e4b67bd",
   "metadata": {},
   "outputs": [
    {
     "data": {
      "text/html": [
       "<div>\n",
       "<style scoped>\n",
       "    .dataframe tbody tr th:only-of-type {\n",
       "        vertical-align: middle;\n",
       "    }\n",
       "\n",
       "    .dataframe tbody tr th {\n",
       "        vertical-align: top;\n",
       "    }\n",
       "\n",
       "    .dataframe thead th {\n",
       "        text-align: right;\n",
       "    }\n",
       "</style>\n",
       "<table border=\"1\" class=\"dataframe\">\n",
       "  <thead>\n",
       "    <tr style=\"text-align: right;\">\n",
       "      <th></th>\n",
       "      <th>priceUSD</th>\n",
       "      <th>size</th>\n",
       "      <th>sentbyaddress</th>\n",
       "      <th>transactions</th>\n",
       "      <th>mining_profitability</th>\n",
       "      <th>sentinusd</th>\n",
       "      <th>transactionfees</th>\n",
       "      <th>median_transaction_fee</th>\n",
       "      <th>confirmationtime</th>\n",
       "      <th>marketcap</th>\n",
       "      <th>transactionvalue</th>\n",
       "      <th>mediantransactionvalue</th>\n",
       "      <th>tweets</th>\n",
       "      <th>google_trends</th>\n",
       "      <th>fee_to_reward</th>\n",
       "      <th>activeaddresses</th>\n",
       "      <th>top100cap</th>\n",
       "    </tr>\n",
       "  </thead>\n",
       "  <tbody>\n",
       "    <tr>\n",
       "      <th>count</th>\n",
       "      <td>3178.000000</td>\n",
       "      <td>3178.000000</td>\n",
       "      <td>3178.000000</td>\n",
       "      <td>3178.000000</td>\n",
       "      <td>3178.000000</td>\n",
       "      <td>3.178000e+03</td>\n",
       "      <td>3178.000000</td>\n",
       "      <td>3178.000000</td>\n",
       "      <td>3178.000000</td>\n",
       "      <td>3.178000e+03</td>\n",
       "      <td>3.178000e+03</td>\n",
       "      <td>3178.000000</td>\n",
       "      <td>3178.000000</td>\n",
       "      <td>3178.000000</td>\n",
       "      <td>3178.000000</td>\n",
       "      <td>3.178000e+03</td>\n",
       "      <td>3178.000000</td>\n",
       "    </tr>\n",
       "    <tr>\n",
       "      <th>mean</th>\n",
       "      <td>145373.284663</td>\n",
       "      <td>702148.932033</td>\n",
       "      <td>370840.438955</td>\n",
       "      <td>236861.120201</td>\n",
       "      <td>1779.020914</td>\n",
       "      <td>1.192430e+10</td>\n",
       "      <td>2444.509835</td>\n",
       "      <td>1158.803386</td>\n",
       "      <td>7588.281598</td>\n",
       "      <td>2.256854e+11</td>\n",
       "      <td>1.247182e+05</td>\n",
       "      <td>297494.328371</td>\n",
       "      <td>52702.595972</td>\n",
       "      <td>46136.221051</td>\n",
       "      <td>3725.576331</td>\n",
       "      <td>5.768229e+05</td>\n",
       "      <td>15523.147778</td>\n",
       "    </tr>\n",
       "    <tr>\n",
       "      <th>std</th>\n",
       "      <td>222752.788559</td>\n",
       "      <td>208389.746506</td>\n",
       "      <td>132981.655738</td>\n",
       "      <td>84305.738636</td>\n",
       "      <td>4850.058803</td>\n",
       "      <td>2.244839e+10</td>\n",
       "      <td>5659.491104</td>\n",
       "      <td>2980.924809</td>\n",
       "      <td>4214.706035</td>\n",
       "      <td>3.027574e+11</td>\n",
       "      <td>2.372011e+05</td>\n",
       "      <td>253608.877403</td>\n",
       "      <td>47215.636517</td>\n",
       "      <td>56568.162740</td>\n",
       "      <td>5220.490585</td>\n",
       "      <td>2.405519e+05</td>\n",
       "      <td>5566.598931</td>\n",
       "    </tr>\n",
       "    <tr>\n",
       "      <th>min</th>\n",
       "      <td>210.640000</td>\n",
       "      <td>162260.000000</td>\n",
       "      <td>70902.000000</td>\n",
       "      <td>47579.000000</td>\n",
       "      <td>0.052500</td>\n",
       "      <td>9.471432e+07</td>\n",
       "      <td>0.024100</td>\n",
       "      <td>0.009970</td>\n",
       "      <td>0.000000</td>\n",
       "      <td>2.655832e+09</td>\n",
       "      <td>1.166000e+03</td>\n",
       "      <td>0.091700</td>\n",
       "      <td>0.000000</td>\n",
       "      <td>5.910000</td>\n",
       "      <td>0.240000</td>\n",
       "      <td>0.000000e+00</td>\n",
       "      <td>0.000000</td>\n",
       "    </tr>\n",
       "    <tr>\n",
       "      <th>25%</th>\n",
       "      <td>7399.250000</td>\n",
       "      <td>583767.750000</td>\n",
       "      <td>288050.250000</td>\n",
       "      <td>192268.500000</td>\n",
       "      <td>144.000000</td>\n",
       "      <td>9.352113e+08</td>\n",
       "      <td>2.315000</td>\n",
       "      <td>0.086625</td>\n",
       "      <td>8045.000000</td>\n",
       "      <td>9.040019e+09</td>\n",
       "      <td>5.847500e+03</td>\n",
       "      <td>99138.750000</td>\n",
       "      <td>21905.250000</td>\n",
       "      <td>8462.000000</td>\n",
       "      <td>678.250000</td>\n",
       "      <td>4.150890e+05</td>\n",
       "      <td>14754.000000</td>\n",
       "    </tr>\n",
       "    <tr>\n",
       "      <th>50%</th>\n",
       "      <td>19722.500000</td>\n",
       "      <td>740894.000000</td>\n",
       "      <td>390110.500000</td>\n",
       "      <td>252011.000000</td>\n",
       "      <td>331.000000</td>\n",
       "      <td>4.368336e+09</td>\n",
       "      <td>669.500000</td>\n",
       "      <td>217.000000</td>\n",
       "      <td>9231.000000</td>\n",
       "      <td>1.134215e+11</td>\n",
       "      <td>2.559650e+04</td>\n",
       "      <td>215612.500000</td>\n",
       "      <td>30182.500000</td>\n",
       "      <td>31516.000000</td>\n",
       "      <td>1426.500000</td>\n",
       "      <td>5.956720e+05</td>\n",
       "      <td>15787.000000</td>\n",
       "    </tr>\n",
       "    <tr>\n",
       "      <th>75%</th>\n",
       "      <td>243145.000000</td>\n",
       "      <td>879452.000000</td>\n",
       "      <td>475826.500000</td>\n",
       "      <td>296568.000000</td>\n",
       "      <td>1290.000000</td>\n",
       "      <td>1.153206e+10</td>\n",
       "      <td>2173.750000</td>\n",
       "      <td>776.750000</td>\n",
       "      <td>10213.000000</td>\n",
       "      <td>2.561065e+11</td>\n",
       "      <td>1.001445e+05</td>\n",
       "      <td>483636.500000</td>\n",
       "      <td>74964.000000</td>\n",
       "      <td>57322.000000</td>\n",
       "      <td>4647.500000</td>\n",
       "      <td>7.660078e+05</td>\n",
       "      <td>19122.750000</td>\n",
       "    </tr>\n",
       "    <tr>\n",
       "      <th>max</th>\n",
       "      <td>999914.000000</td>\n",
       "      <td>998092.000000</td>\n",
       "      <td>730199.000000</td>\n",
       "      <td>490459.000000</td>\n",
       "      <td>40706.000000</td>\n",
       "      <td>3.833295e+11</td>\n",
       "      <td>62779.000000</td>\n",
       "      <td>34095.000000</td>\n",
       "      <td>24828.000000</td>\n",
       "      <td>1.274513e+12</td>\n",
       "      <td>2.450460e+06</td>\n",
       "      <td>998565.000000</td>\n",
       "      <td>363566.000000</td>\n",
       "      <td>616867.000000</td>\n",
       "      <td>40631.000000</td>\n",
       "      <td>1.196069e+06</td>\n",
       "      <td>21809.000000</td>\n",
       "    </tr>\n",
       "  </tbody>\n",
       "</table>\n",
       "</div>"
      ],
      "text/plain": [
       "            priceUSD           size  sentbyaddress   transactions  mining_profitability     sentinusd  transactionfees  \\\n",
       "count    3178.000000    3178.000000    3178.000000    3178.000000           3178.000000  3.178000e+03      3178.000000   \n",
       "mean   145373.284663  702148.932033  370840.438955  236861.120201           1779.020914  1.192430e+10      2444.509835   \n",
       "std    222752.788559  208389.746506  132981.655738   84305.738636           4850.058803  2.244839e+10      5659.491104   \n",
       "min       210.640000  162260.000000   70902.000000   47579.000000              0.052500  9.471432e+07         0.024100   \n",
       "25%      7399.250000  583767.750000  288050.250000  192268.500000            144.000000  9.352113e+08         2.315000   \n",
       "50%     19722.500000  740894.000000  390110.500000  252011.000000            331.000000  4.368336e+09       669.500000   \n",
       "75%    243145.000000  879452.000000  475826.500000  296568.000000           1290.000000  1.153206e+10      2173.750000   \n",
       "max    999914.000000  998092.000000  730199.000000  490459.000000          40706.000000  3.833295e+11     62779.000000   \n",
       "\n",
       "       median_transaction_fee  confirmationtime     marketcap  transactionvalue  mediantransactionvalue         tweets  google_trends  \\\n",
       "count             3178.000000       3178.000000  3.178000e+03      3.178000e+03             3178.000000    3178.000000    3178.000000   \n",
       "mean              1158.803386       7588.281598  2.256854e+11      1.247182e+05           297494.328371   52702.595972   46136.221051   \n",
       "std               2980.924809       4214.706035  3.027574e+11      2.372011e+05           253608.877403   47215.636517   56568.162740   \n",
       "min                  0.009970          0.000000  2.655832e+09      1.166000e+03                0.091700       0.000000       5.910000   \n",
       "25%                  0.086625       8045.000000  9.040019e+09      5.847500e+03            99138.750000   21905.250000    8462.000000   \n",
       "50%                217.000000       9231.000000  1.134215e+11      2.559650e+04           215612.500000   30182.500000   31516.000000   \n",
       "75%                776.750000      10213.000000  2.561065e+11      1.001445e+05           483636.500000   74964.000000   57322.000000   \n",
       "max              34095.000000      24828.000000  1.274513e+12      2.450460e+06           998565.000000  363566.000000  616867.000000   \n",
       "\n",
       "       fee_to_reward  activeaddresses     top100cap  \n",
       "count    3178.000000     3.178000e+03   3178.000000  \n",
       "mean     3725.576331     5.768229e+05  15523.147778  \n",
       "std      5220.490585     2.405519e+05   5566.598931  \n",
       "min         0.240000     0.000000e+00      0.000000  \n",
       "25%       678.250000     4.150890e+05  14754.000000  \n",
       "50%      1426.500000     5.956720e+05  15787.000000  \n",
       "75%      4647.500000     7.660078e+05  19122.750000  \n",
       "max     40631.000000     1.196069e+06  21809.000000  "
      ]
     },
     "execution_count": 28,
     "metadata": {},
     "output_type": "execute_result"
    }
   ],
   "source": [
    "df.describe(include=(np.number))"
   ]
  },
  {
   "cell_type": "markdown",
   "id": "cae329d8",
   "metadata": {},
   "source": [
    "Valores monetários tendem a variar muito, como podemos ver na tabela onde o preço varia de 210 usd para 999914 usd:"
   ]
  },
  {
   "cell_type": "code",
   "execution_count": 29,
   "id": "2e2f1e9b",
   "metadata": {},
   "outputs": [
    {
     "data": {
      "image/png": "[encoded data removed]",
      "text/plain": [
       "<Figure size 640x480 with 1 Axes>"
      ]
     },
     "metadata": {},
     "output_type": "display_data"
    }
   ],
   "source": [
    "df['priceUSD'].hist();"
   ]
  },
  {
   "cell_type": "markdown",
   "id": "384e8f9d",
   "metadata": {},
   "source": [
    "Essa discrepância no valores dos dados podem afetar o nosso modelo, portanto aplicaremos uma técnica de tirar o logarítimo do número, pois isso fará com que os números muito grandes sejam consideravelmente reduzidos, e os números pequenos se mantenham. No entanto, é importante ressaltar que deve ser somado 1 na equação, pois o logarítmo de 0 é infinito, e isso pode complicar as coisas."
   ]
  },
  {
   "cell_type": "code",
   "execution_count": 30,
   "id": "9fc4e5a2",
   "metadata": {},
   "outputs": [],
   "source": [
    "df['logpriceUSD'] = np.log(df['priceUSD']+1)"
   ]
  },
  {
   "cell_type": "markdown",
   "id": "b81993cb",
   "metadata": {},
   "source": [
    "Agora temos uma nova coluna chamada logpriceUSD que contém os logarítmos da coluna priceUSD, e sua aparência é assim:"
   ]
  },
  {
   "cell_type": "code",
   "execution_count": 31,
   "id": "1d86fcfc",
   "metadata": {},
   "outputs": [
    {
     "data": {
      "image/png": "[encoded data removed]",
      "text/plain": [
       "<Figure size 640x480 with 1 Axes>"
      ]
     },
     "metadata": {},
     "output_type": "display_data"
    }
   ],
   "source": [
    "df['logpriceUSD'].hist();"
   ]
  },
  {
   "cell_type": "markdown",
   "id": "9c1145cf",
   "metadata": {},
   "source": [
    "Agora faremos isso para todos os valores com desvio muito grande."
   ]
  },
  {
   "cell_type": "code",
   "execution_count": 32,
   "id": "a63a6325",
   "metadata": {},
   "outputs": [],
   "source": [
    "df['logsize'] = np.log(df['size']+1)\n",
    "df['logtransactions'] = np.log(df['transactions']+1)\n",
    "df['logmining_profitability'] = np.log(df['mining_profitability']+1) \n",
    "df['logtransactionfees'] = np.log(df['transactionfees']+1)\n",
    "df['logmedian_transaction_fee'] = np.log(df['median_transaction_fee']+1)\n",
    "df['logmarketcap'] = np.log(df['marketcap']+1)\n",
    "df['logtransactionvalue'] = np.log(df['transactionvalue']+1)\n",
    "df['logmediantransactionvalue'] = np.log(df['mediantransactionvalue']+1)\n",
    "df['logtweets'] = np.log(df['tweets']+1)\n",
    "df['loggoogle_trends'] = np.log(df['google_trends']+1)\n",
    "df['logtop100cap'] = np.log(df['top100cap']+1)"
   ]
  },
  {
   "cell_type": "markdown",
   "id": "dda5e40a",
   "metadata": {},
   "source": [
    "## Remoção de dados"
   ]
  },
  {
   "cell_type": "markdown",
   "id": "09f31ed3",
   "metadata": {},
   "source": [
    "Para facilitar, e não complicar muito o modelo, iremos remover algumas colunas que não serão necessárias para este modelo."
   ]
  },
  {
   "cell_type": "code",
   "execution_count": 33,
   "id": "364e4bce",
   "metadata": {},
   "outputs": [],
   "source": [
    "df = df.drop(columns=['sentbyaddress','confirmationtime', 'fee_to_reward', 'activeaddresses'])"
   ]
  },
  {
   "cell_type": "markdown",
   "id": "c8aff71f",
   "metadata": {},
   "source": [
    "Agora a tabela está assim:"
   ]
  },
  {
   "cell_type": "code",
   "execution_count": 34,
   "id": "fbc9aee3",
   "metadata": {},
   "outputs": [
    {
     "data": {
      "text/html": [
       "<div>\n",
       "<style scoped>\n",
       "    .dataframe tbody tr th:only-of-type {\n",
       "        vertical-align: middle;\n",
       "    }\n",
       "\n",
       "    .dataframe tbody tr th {\n",
       "        vertical-align: top;\n",
       "    }\n",
       "\n",
       "    .dataframe thead th {\n",
       "        text-align: right;\n",
       "    }\n",
       "</style>\n",
       "<table border=\"1\" class=\"dataframe\">\n",
       "  <thead>\n",
       "    <tr style=\"text-align: right;\">\n",
       "      <th></th>\n",
       "      <th>Date</th>\n",
       "      <th>priceUSD</th>\n",
       "      <th>size</th>\n",
       "      <th>transactions</th>\n",
       "      <th>mining_profitability</th>\n",
       "      <th>sentinusd</th>\n",
       "      <th>transactionfees</th>\n",
       "      <th>median_transaction_fee</th>\n",
       "      <th>marketcap</th>\n",
       "      <th>transactionvalue</th>\n",
       "      <th>...</th>\n",
       "      <th>logtransactions</th>\n",
       "      <th>logmining_profitability</th>\n",
       "      <th>logtransactionfees</th>\n",
       "      <th>logmedian_transaction_fee</th>\n",
       "      <th>logmarketcap</th>\n",
       "      <th>logtransactionvalue</th>\n",
       "      <th>logmediantransactionvalue</th>\n",
       "      <th>logtweets</th>\n",
       "      <th>loggoogle_trends</th>\n",
       "      <th>logtop100cap</th>\n",
       "    </tr>\n",
       "  </thead>\n",
       "  <tbody>\n",
       "    <tr>\n",
       "      <th>0</th>\n",
       "      <td>2014/04/09</td>\n",
       "      <td>447.11</td>\n",
       "      <td>243742.0</td>\n",
       "      <td>64992</td>\n",
       "      <td>38678.0000</td>\n",
       "      <td>2.392120e+08</td>\n",
       "      <td>139.0000</td>\n",
       "      <td>0.0447</td>\n",
       "      <td>5587996110</td>\n",
       "      <td>4115.0</td>\n",
       "      <td>...</td>\n",
       "      <td>11.082035</td>\n",
       "      <td>10.563052</td>\n",
       "      <td>4.941642</td>\n",
       "      <td>0.043730</td>\n",
       "      <td>22.443887</td>\n",
       "      <td>8.322637</td>\n",
       "      <td>4.619270</td>\n",
       "      <td>9.011157</td>\n",
       "      <td>9.323133</td>\n",
       "      <td>9.863290</td>\n",
       "    </tr>\n",
       "    <tr>\n",
       "      <th>1</th>\n",
       "      <td>2014/04/10</td>\n",
       "      <td>407703.00</td>\n",
       "      <td>254334.0</td>\n",
       "      <td>67872</td>\n",
       "      <td>31917.0000</td>\n",
       "      <td>3.103671e+08</td>\n",
       "      <td>0.0864</td>\n",
       "      <td>0.0408</td>\n",
       "      <td>5020359905</td>\n",
       "      <td>4876.0</td>\n",
       "      <td>...</td>\n",
       "      <td>11.125394</td>\n",
       "      <td>10.370925</td>\n",
       "      <td>0.082869</td>\n",
       "      <td>0.039990</td>\n",
       "      <td>22.336767</td>\n",
       "      <td>8.492286</td>\n",
       "      <td>11.703108</td>\n",
       "      <td>9.618469</td>\n",
       "      <td>9.536401</td>\n",
       "      <td>9.860945</td>\n",
       "    </tr>\n",
       "    <tr>\n",
       "      <th>2</th>\n",
       "      <td>2014/04/11</td>\n",
       "      <td>403328.00</td>\n",
       "      <td>223656.0</td>\n",
       "      <td>65563</td>\n",
       "      <td>36814.0000</td>\n",
       "      <td>2.927563e+08</td>\n",
       "      <td>0.0858</td>\n",
       "      <td>0.0403</td>\n",
       "      <td>5068919648</td>\n",
       "      <td>4819.0</td>\n",
       "      <td>...</td>\n",
       "      <td>11.090782</td>\n",
       "      <td>10.513661</td>\n",
       "      <td>0.082317</td>\n",
       "      <td>0.039509</td>\n",
       "      <td>22.346394</td>\n",
       "      <td>8.480529</td>\n",
       "      <td>11.594340</td>\n",
       "      <td>9.609653</td>\n",
       "      <td>9.472551</td>\n",
       "      <td>9.859640</td>\n",
       "    </tr>\n",
       "    <tr>\n",
       "      <th>3</th>\n",
       "      <td>2014/04/12</td>\n",
       "      <td>425.31</td>\n",
       "      <td>169964.0</td>\n",
       "      <td>47579</td>\n",
       "      <td>34498.0000</td>\n",
       "      <td>1.572647e+08</td>\n",
       "      <td>0.0811</td>\n",
       "      <td>0.0425</td>\n",
       "      <td>5329088351</td>\n",
       "      <td>3574.0</td>\n",
       "      <td>...</td>\n",
       "      <td>10.770168</td>\n",
       "      <td>10.448686</td>\n",
       "      <td>0.077979</td>\n",
       "      <td>0.041622</td>\n",
       "      <td>22.396446</td>\n",
       "      <td>8.181720</td>\n",
       "      <td>11.343429</td>\n",
       "      <td>8.933664</td>\n",
       "      <td>9.130214</td>\n",
       "      <td>9.859849</td>\n",
       "    </tr>\n",
       "    <tr>\n",
       "      <th>4</th>\n",
       "      <td>2014/04/13</td>\n",
       "      <td>415876.00</td>\n",
       "      <td>162260.0</td>\n",
       "      <td>50981</td>\n",
       "      <td>34141.0000</td>\n",
       "      <td>1.547564e+08</td>\n",
       "      <td>84.0000</td>\n",
       "      <td>0.0416</td>\n",
       "      <td>5150414718</td>\n",
       "      <td>3332.0</td>\n",
       "      <td>...</td>\n",
       "      <td>10.839228</td>\n",
       "      <td>10.438284</td>\n",
       "      <td>4.442651</td>\n",
       "      <td>0.040758</td>\n",
       "      <td>22.362343</td>\n",
       "      <td>8.111628</td>\n",
       "      <td>11.151697</td>\n",
       "      <td>9.275660</td>\n",
       "      <td>9.248214</td>\n",
       "      <td>9.859118</td>\n",
       "    </tr>\n",
       "    <tr>\n",
       "      <th>...</th>\n",
       "      <td>...</td>\n",
       "      <td>...</td>\n",
       "      <td>...</td>\n",
       "      <td>...</td>\n",
       "      <td>...</td>\n",
       "      <td>...</td>\n",
       "      <td>...</td>\n",
       "      <td>...</td>\n",
       "      <td>...</td>\n",
       "      <td>...</td>\n",
       "      <td>...</td>\n",
       "      <td>...</td>\n",
       "      <td>...</td>\n",
       "      <td>...</td>\n",
       "      <td>...</td>\n",
       "      <td>...</td>\n",
       "      <td>...</td>\n",
       "      <td>...</td>\n",
       "      <td>...</td>\n",
       "      <td>...</td>\n",
       "      <td>...</td>\n",
       "    </tr>\n",
       "    <tr>\n",
       "      <th>3173</th>\n",
       "      <td>2022/12/16</td>\n",
       "      <td>17100.00</td>\n",
       "      <td>660280.0</td>\n",
       "      <td>254046</td>\n",
       "      <td>0.0562</td>\n",
       "      <td>6.612437e+09</td>\n",
       "      <td>1115.0000</td>\n",
       "      <td>462.0000</td>\n",
       "      <td>328931567036</td>\n",
       "      <td>75525.0</td>\n",
       "      <td>...</td>\n",
       "      <td>12.445275</td>\n",
       "      <td>0.054678</td>\n",
       "      <td>7.017506</td>\n",
       "      <td>6.137727</td>\n",
       "      <td>26.519116</td>\n",
       "      <td>11.232232</td>\n",
       "      <td>6.218560</td>\n",
       "      <td>11.598461</td>\n",
       "      <td>9.898977</td>\n",
       "      <td>9.603530</td>\n",
       "    </tr>\n",
       "    <tr>\n",
       "      <th>3174</th>\n",
       "      <td>2022/12/17</td>\n",
       "      <td>16699.00</td>\n",
       "      <td>703268.0</td>\n",
       "      <td>263062</td>\n",
       "      <td>0.0679</td>\n",
       "      <td>4.970511e+09</td>\n",
       "      <td>1107.0000</td>\n",
       "      <td>471.0000</td>\n",
       "      <td>321216328776</td>\n",
       "      <td>49982.0</td>\n",
       "      <td>...</td>\n",
       "      <td>12.480149</td>\n",
       "      <td>0.065694</td>\n",
       "      <td>7.010312</td>\n",
       "      <td>6.156979</td>\n",
       "      <td>26.495381</td>\n",
       "      <td>10.819438</td>\n",
       "      <td>12.796905</td>\n",
       "      <td>11.399802</td>\n",
       "      <td>9.781207</td>\n",
       "      <td>9.599202</td>\n",
       "    </tr>\n",
       "    <tr>\n",
       "      <th>3175</th>\n",
       "      <td>2022/12/18</td>\n",
       "      <td>16736.00</td>\n",
       "      <td>511467.0</td>\n",
       "      <td>212528</td>\n",
       "      <td>65.0000</td>\n",
       "      <td>3.493454e+09</td>\n",
       "      <td>912.0000</td>\n",
       "      <td>377.0000</td>\n",
       "      <td>321956223728</td>\n",
       "      <td>55620.0</td>\n",
       "      <td>...</td>\n",
       "      <td>12.266834</td>\n",
       "      <td>4.189655</td>\n",
       "      <td>6.816736</td>\n",
       "      <td>5.934894</td>\n",
       "      <td>26.497681</td>\n",
       "      <td>10.926316</td>\n",
       "      <td>12.900631</td>\n",
       "      <td>11.308591</td>\n",
       "      <td>9.647692</td>\n",
       "      <td>9.597777</td>\n",
       "    </tr>\n",
       "    <tr>\n",
       "      <th>3176</th>\n",
       "      <td>2022/12/19</td>\n",
       "      <td>16679.00</td>\n",
       "      <td>706111.0</td>\n",
       "      <td>258960</td>\n",
       "      <td>0.0569</td>\n",
       "      <td>6.191116e+09</td>\n",
       "      <td>1164.0000</td>\n",
       "      <td>0.4500</td>\n",
       "      <td>320876529094</td>\n",
       "      <td>67503.0</td>\n",
       "      <td>...</td>\n",
       "      <td>12.464433</td>\n",
       "      <td>0.055340</td>\n",
       "      <td>7.060476</td>\n",
       "      <td>0.371564</td>\n",
       "      <td>26.494322</td>\n",
       "      <td>11.119942</td>\n",
       "      <td>13.010379</td>\n",
       "      <td>11.513315</td>\n",
       "      <td>9.781207</td>\n",
       "      <td>9.593764</td>\n",
       "    </tr>\n",
       "    <tr>\n",
       "      <th>3177</th>\n",
       "      <td>2022/12/20</td>\n",
       "      <td>16788.00</td>\n",
       "      <td>665567.0</td>\n",
       "      <td>268753</td>\n",
       "      <td>63.0000</td>\n",
       "      <td>6.787239e+09</td>\n",
       "      <td>1128.0000</td>\n",
       "      <td>0.4700</td>\n",
       "      <td>322974092809</td>\n",
       "      <td>61942.0</td>\n",
       "      <td>...</td>\n",
       "      <td>12.501552</td>\n",
       "      <td>4.158883</td>\n",
       "      <td>7.029088</td>\n",
       "      <td>0.385262</td>\n",
       "      <td>26.500838</td>\n",
       "      <td>11.033970</td>\n",
       "      <td>6.110380</td>\n",
       "      <td>11.415941</td>\n",
       "      <td>9.816294</td>\n",
       "      <td>9.594378</td>\n",
       "    </tr>\n",
       "  </tbody>\n",
       "</table>\n",
       "<p>3178 rows × 26 columns</p>\n",
       "</div>"
      ],
      "text/plain": [
       "            Date   priceUSD      size  transactions  mining_profitability     sentinusd  transactionfees  median_transaction_fee  \\\n",
       "0     2014/04/09     447.11  243742.0         64992            38678.0000  2.392120e+08         139.0000                  0.0447   \n",
       "1     2014/04/10  407703.00  254334.0         67872            31917.0000  3.103671e+08           0.0864                  0.0408   \n",
       "2     2014/04/11  403328.00  223656.0         65563            36814.0000  2.927563e+08           0.0858                  0.0403   \n",
       "3     2014/04/12     425.31  169964.0         47579            34498.0000  1.572647e+08           0.0811                  0.0425   \n",
       "4     2014/04/13  415876.00  162260.0         50981            34141.0000  1.547564e+08          84.0000                  0.0416   \n",
       "...          ...        ...       ...           ...                   ...           ...              ...                     ...   \n",
       "3173  2022/12/16   17100.00  660280.0        254046                0.0562  6.612437e+09        1115.0000                462.0000   \n",
       "3174  2022/12/17   16699.00  703268.0        263062                0.0679  4.970511e+09        1107.0000                471.0000   \n",
       "3175  2022/12/18   16736.00  511467.0        212528               65.0000  3.493454e+09         912.0000                377.0000   \n",
       "3176  2022/12/19   16679.00  706111.0        258960                0.0569  6.191116e+09        1164.0000                  0.4500   \n",
       "3177  2022/12/20   16788.00  665567.0        268753               63.0000  6.787239e+09        1128.0000                  0.4700   \n",
       "\n",
       "         marketcap  transactionvalue  ...  logtransactions  logmining_profitability  logtransactionfees  logmedian_transaction_fee  \\\n",
       "0       5587996110            4115.0  ...        11.082035                10.563052            4.941642                   0.043730   \n",
       "1       5020359905            4876.0  ...        11.125394                10.370925            0.082869                   0.039990   \n",
       "2       5068919648            4819.0  ...        11.090782                10.513661            0.082317                   0.039509   \n",
       "3       5329088351            3574.0  ...        10.770168                10.448686            0.077979                   0.041622   \n",
       "4       5150414718            3332.0  ...        10.839228                10.438284            4.442651                   0.040758   \n",
       "...            ...               ...  ...              ...                      ...                 ...                        ...   \n",
       "3173  328931567036           75525.0  ...        12.445275                 0.054678            7.017506                   6.137727   \n",
       "3174  321216328776           49982.0  ...        12.480149                 0.065694            7.010312                   6.156979   \n",
       "3175  321956223728           55620.0  ...        12.266834                 4.189655            6.816736                   5.934894   \n",
       "3176  320876529094           67503.0  ...        12.464433                 0.055340            7.060476                   0.371564   \n",
       "3177  322974092809           61942.0  ...        12.501552                 4.158883            7.029088                   0.385262   \n",
       "\n",
       "      logmarketcap  logtransactionvalue  logmediantransactionvalue  logtweets  loggoogle_trends  logtop100cap  \n",
       "0        22.443887             8.322637                   4.619270   9.011157          9.323133      9.863290  \n",
       "1        22.336767             8.492286                  11.703108   9.618469          9.536401      9.860945  \n",
       "2        22.346394             8.480529                  11.594340   9.609653          9.472551      9.859640  \n",
       "3        22.396446             8.181720                  11.343429   8.933664          9.130214      9.859849  \n",
       "4        22.362343             8.111628                  11.151697   9.275660          9.248214      9.859118  \n",
       "...            ...                  ...                        ...        ...               ...           ...  \n",
       "3173     26.519116            11.232232                   6.218560  11.598461          9.898977      9.603530  \n",
       "3174     26.495381            10.819438                  12.796905  11.399802          9.781207      9.599202  \n",
       "3175     26.497681            10.926316                  12.900631  11.308591          9.647692      9.597777  \n",
       "3176     26.494322            11.119942                  13.010379  11.513315          9.781207      9.593764  \n",
       "3177     26.500838            11.033970                   6.110380  11.415941          9.816294      9.594378  \n",
       "\n",
       "[3178 rows x 26 columns]"
      ]
     },
     "execution_count": 34,
     "metadata": {},
     "output_type": "execute_result"
    }
   ],
   "source": [
    "df"
   ]
  },
  {
   "cell_type": "markdown",
   "id": "dfd132f4",
   "metadata": {},
   "source": [
    "## Valores não numéricos"
   ]
  },
  {
   "cell_type": "markdown",
   "id": "80e7d82a",
   "metadata": {},
   "source": [
    "Agora, podemos ver as colunas não numéricas existentes na tabela."
   ]
  },
  {
   "cell_type": "code",
   "execution_count": 35,
   "id": "f12d0efc",
   "metadata": {},
   "outputs": [
    {
     "data": {
      "text/html": [
       "<div>\n",
       "<style scoped>\n",
       "    .dataframe tbody tr th:only-of-type {\n",
       "        vertical-align: middle;\n",
       "    }\n",
       "\n",
       "    .dataframe tbody tr th {\n",
       "        vertical-align: top;\n",
       "    }\n",
       "\n",
       "    .dataframe thead th {\n",
       "        text-align: right;\n",
       "    }\n",
       "</style>\n",
       "<table border=\"1\" class=\"dataframe\">\n",
       "  <thead>\n",
       "    <tr style=\"text-align: right;\">\n",
       "      <th></th>\n",
       "      <th>Date</th>\n",
       "    </tr>\n",
       "  </thead>\n",
       "  <tbody>\n",
       "    <tr>\n",
       "      <th>count</th>\n",
       "      <td>3178</td>\n",
       "    </tr>\n",
       "    <tr>\n",
       "      <th>unique</th>\n",
       "      <td>3178</td>\n",
       "    </tr>\n",
       "    <tr>\n",
       "      <th>top</th>\n",
       "      <td>2014/04/09</td>\n",
       "    </tr>\n",
       "    <tr>\n",
       "      <th>freq</th>\n",
       "      <td>1</td>\n",
       "    </tr>\n",
       "  </tbody>\n",
       "</table>\n",
       "</div>"
      ],
      "text/plain": [
       "              Date\n",
       "count         3178\n",
       "unique        3178\n",
       "top     2014/04/09\n",
       "freq             1"
      ]
     },
     "execution_count": 35,
     "metadata": {},
     "output_type": "execute_result"
    }
   ],
   "source": [
    "df.describe(include=[object])"
   ]
  },
  {
   "cell_type": "markdown",
   "id": "f8f0835b",
   "metadata": {},
   "source": [
    "A coluna data não é um valor numérico, porém todos os valores existentes nelas são únicos. Portanto não iremos mexer nisso pois geraria uma quantidade muito grande de colunas desnecessárias."
   ]
  },
  {
   "cell_type": "markdown",
   "id": "ec6c462b",
   "metadata": {},
   "source": [
    "# Configuração de modelo"
   ]
  },
  {
   "cell_type": "markdown",
   "id": "1b88b208",
   "metadata": {},
   "source": [
    "Primeiramente devemos definir os valores independentes (valores que serão fornecidos para a previsão) e os valores dependentes (valores a serem previstos).\n",
    "\n",
    "Variáveis independentes:"
   ]
  },
  {
   "cell_type": "code",
   "execution_count": 37,
   "id": "0bd7d8b7",
   "metadata": {},
   "outputs": [
    {
     "data": {
      "text/plain": [
       "tensor([[12.4039, 11.0820, 10.5631,  4.9416,  0.0437, 22.4439,  8.3226,  4.6193,  9.0112,  9.3231,  9.8633],\n",
       "        [12.4464, 11.1254, 10.3709,  0.0829,  0.0400, 22.3368,  8.4923, 11.7031,  9.6185,  9.5364,  9.8609],\n",
       "        [12.3179, 11.0908, 10.5137,  0.0823,  0.0395, 22.3464,  8.4805, 11.5943,  9.6097,  9.4726,  9.8596],\n",
       "        [12.0433, 10.7702, 10.4487,  0.0780,  0.0416, 22.3964,  8.1817, 11.3434,  8.9337,  9.1302,  9.8598],\n",
       "        [11.9970, 10.8392, 10.4383,  4.4427,  0.0408, 22.3623,  8.1116, 11.1517,  9.2757,  9.2482,  9.8591],\n",
       "        [12.2833, 11.1566, 10.5447,  0.0932,  0.0436, 22.4510,  8.2918, 11.6549,  9.4930,  9.2831,  9.8599],\n",
       "        [12.3948, 11.1931,  3.6801,  4.7185,  0.0476, 22.5430,  8.4074, 11.7207,  9.6048,  9.3105,  9.8588],\n",
       "        ...,\n",
       "        [13.3927, 12.5292,  0.0582,  6.8855,  5.8861, 26.5633, 11.3932,  6.1722, 11.7271,  9.9202,  2.7644],\n",
       "        [13.4243, 12.5302,  0.0638,  7.1663,  6.1247, 26.5470, 11.0939, 13.0401, 11.6216,  9.8469,  9.6084],\n",
       "        [13.4004, 12.4453,  0.0547,  7.0175,  6.1377, 26.5191, 11.2322,  6.2186, 11.5985,  9.8990,  9.6035],\n",
       "        [13.4635, 12.4801,  0.0657,  7.0103,  6.1570, 26.4954, 10.8194, 12.7969, 11.3998,  9.7812,  9.5992],\n",
       "        [13.1450, 12.2668,  4.1897,  6.8167,  5.9349, 26.4977, 10.9263, 12.9006, 11.3086,  9.6477,  9.5978],\n",
       "        [13.4675, 12.4644,  0.0553,  7.0605,  0.3716, 26.4943, 11.1199, 13.0104, 11.5133,  9.7812,  9.5938],\n",
       "        [13.4084, 12.5016,  4.1589,  7.0291,  0.3853, 26.5008, 11.0340,  6.1104, 11.4159,  9.8163,  9.5944]])"
      ]
     },
     "execution_count": 37,
     "metadata": {},
     "output_type": "execute_result"
    }
   ],
   "source": [
    "indep_cols = ['logsize', 'logtransactions', 'logmining_profitability', 'logtransactionfees', 'logmedian_transaction_fee', 'logmarketcap', 'logtransactionvalue', 'logmediantransactionvalue', 'logtweets', 'loggoogle_trends', 'logtop100cap']\n",
    "t_indep = tensor(df[indep_cols].values, dtype=torch.float)\n",
    "t_indep"
   ]
  },
  {
   "cell_type": "markdown",
   "id": "768bb3d1",
   "metadata": {},
   "source": [
    "A variável dependente será o preço em usd do bitcoin"
   ]
  },
  {
   "cell_type": "code",
   "execution_count": 38,
   "id": "a6b35955",
   "metadata": {},
   "outputs": [],
   "source": [
    "t_dep = tensor(df.logpriceUSD)"
   ]
  },
  {
   "cell_type": "code",
   "execution_count": 39,
   "id": "0ce924e7",
   "metadata": {},
   "outputs": [
    {
     "data": {
      "text/plain": [
       "torch.Size([3178, 11])"
      ]
     },
     "execution_count": 39,
     "metadata": {},
     "output_type": "execute_result"
    }
   ],
   "source": [
    "t_indep.shape"
   ]
  },
  {
   "cell_type": "markdown",
   "id": "55826d16",
   "metadata": {},
   "source": [
    "Portanto temos 3178 fileiras de 11 coluna de dados para definir os dados do preço."
   ]
  },
  {
   "cell_type": "markdown",
   "id": "0ad8bf5c",
   "metadata": {},
   "source": [
    "## Ajustando coeficientes"
   ]
  },
  {
   "cell_type": "markdown",
   "id": "e2b275e4",
   "metadata": {},
   "source": [
    "Para definir o coeficiente vamos deixar o computador pegar números aleatórios com base em uma seed prédefinida."
   ]
  },
  {
   "cell_type": "code",
   "execution_count": 40,
   "id": "13033d2d",
   "metadata": {},
   "outputs": [
    {
     "data": {
      "text/plain": [
       "tensor([-0.4629,  0.1386,  0.2409, -0.2262, -0.2632, -0.3147,  0.4876,  0.3136,  0.2799, -0.4392,  0.2103])"
      ]
     },
     "execution_count": 40,
     "metadata": {},
     "output_type": "execute_result"
    }
   ],
   "source": [
    "torch.manual_seed(442)\n",
    "\n",
    "n_coeff = t_indep.shape[1]\n",
    "coeffs = torch.rand(n_coeff)-0.5\n",
    "coeffs"
   ]
  },
  {
   "cell_type": "markdown",
   "id": "f203c474",
   "metadata": {},
   "source": [
    "O modelo irá pegar esses coeficientes aleatórios gerados, e multiplicá-los pelos valos da matriz independente:"
   ]
  },
  {
   "cell_type": "code",
   "execution_count": 41,
   "id": "bcdba3b1",
   "metadata": {},
   "outputs": [
    {
     "data": {
      "text/plain": [
       "tensor([[-5.7418,  1.5357,  2.5446, -1.1176, -0.0115, -7.0634,  4.0582,  1.4485,  2.5221, -4.0943,  2.0741],\n",
       "        [-5.7614,  1.5417,  2.4984, -0.0187, -0.0105, -7.0297,  4.1409,  3.6697,  2.6920, -4.1880,  2.0736],\n",
       "        [-5.7019,  1.5370,  2.5327, -0.0186, -0.0104, -7.0328,  4.1352,  3.6356,  2.6896, -4.1600,  2.0734],\n",
       "        [-5.5749,  1.4925,  2.5171, -0.0176, -0.0110, -7.0485,  3.9895,  3.5569,  2.5004, -4.0096,  2.0734],\n",
       "        [-5.5534,  1.5021,  2.5146, -1.0047, -0.0107, -7.0378,  3.9553,  3.4968,  2.5961, -4.0614,  2.0733],\n",
       "        [-5.6859,  1.5461,  2.5402, -0.0211, -0.0115, -7.0657,  4.0432,  3.6546,  2.6569, -4.0768,  2.0734],\n",
       "        [-5.7375,  1.5511,  0.8865, -1.0671, -0.0125, -7.0946,  4.0995,  3.6752,  2.6882, -4.0888,  2.0732],\n",
       "        ...,\n",
       "        [-6.1995,  1.7363,  0.0140, -1.5572, -1.5495, -8.3599,  5.5554,  1.9354,  3.2822, -4.3566,  0.5813],\n",
       "        [-6.2141,  1.7364,  0.0154, -1.6207, -1.6123, -8.3547,  5.4095,  4.0890,  3.2527, -4.3243,  2.0205],\n",
       "        [-6.2031,  1.7247,  0.0132, -1.5870, -1.6157, -8.3460,  5.4769,  1.9499,  3.2462, -4.3472,  2.0195],\n",
       "        [-6.2323,  1.7295,  0.0158, -1.5854, -1.6208, -8.3385,  5.2757,  4.0127,  3.1906, -4.2955,  2.0186],\n",
       "        [-6.0848,  1.6999,  1.0093, -1.5416, -1.5623, -8.3392,  5.3278,  4.0452,  3.1651, -4.2369,  2.0183],\n",
       "        [-6.2341,  1.7273,  0.0133, -1.5968, -0.0978, -8.3382,  5.4222,  4.0796,  3.2224, -4.2955,  2.0175],\n",
       "        [-6.2067,  1.7325,  1.0019, -1.5897, -0.1014, -8.3402,  5.3803,  1.9160,  3.1951, -4.3109,  2.0176]])"
      ]
     },
     "execution_count": 41,
     "metadata": {},
     "output_type": "execute_result"
    }
   ],
   "source": [
    "t_indep*coeffs"
   ]
  },
  {
   "cell_type": "markdown",
   "id": "674eb9b5",
   "metadata": {},
   "source": [
    "Porém os valores que são obtidos serão fortemente afetados pelo valor obtido da primeira coluna, para evitar isso, vamos fazer com que todos os valores das colunas sejam entre 0 e 1. Para fazer isso dividiremos todos os valores da coluna pelo maior valor."
   ]
  },
  {
   "cell_type": "code",
   "execution_count": 42,
   "id": "19b68b94",
   "metadata": {},
   "outputs": [],
   "source": [
    "vals,indices = t_indep.max(dim=0)\n",
    "t_indep = t_indep / vals"
   ]
  },
  {
   "cell_type": "markdown",
   "id": "8ef62fc9",
   "metadata": {},
   "source": [
    "Agora não teremos mais esse problema:"
   ]
  },
  {
   "cell_type": "code",
   "execution_count": 43,
   "id": "001f7f56",
   "metadata": {},
   "outputs": [
    {
     "data": {
      "text/plain": [
       "tensor([[-0.4157,  0.1172,  0.2397, -0.1012, -0.0011, -0.2534,  0.2758,  0.1049,  0.1970, -0.3071,  0.2076],\n",
       "        [-0.4171,  0.1177,  0.2354, -0.0017, -0.0010, -0.2522,  0.2815,  0.2657,  0.2103, -0.3141,  0.2076],\n",
       "        [-0.4128,  0.1173,  0.2386, -0.0017, -0.0010, -0.2523,  0.2811,  0.2632,  0.2101, -0.3120,  0.2075],\n",
       "        [-0.4036,  0.1139,  0.2371, -0.0016, -0.0010, -0.2529,  0.2712,  0.2575,  0.1953, -0.3007,  0.2075],\n",
       "        [-0.4020,  0.1146,  0.2369, -0.0909, -0.0010, -0.2525,  0.2689,  0.2531,  0.2028, -0.3046,  0.2075],\n",
       "        [-0.4116,  0.1180,  0.2393, -0.0019, -0.0011, -0.2535,  0.2748,  0.2646,  0.2075, -0.3058,  0.2075],\n",
       "        [-0.4154,  0.1184,  0.0835, -0.0966, -0.0012, -0.2545,  0.2787,  0.2661,  0.2100, -0.3067,  0.2075],\n",
       "        ...,\n",
       "        [-0.4488,  0.1325,  0.0013, -0.1410, -0.1485, -0.2999,  0.3776,  0.1401,  0.2563, -0.3268,  0.0582],\n",
       "        [-0.4499,  0.1325,  0.0014, -0.1467, -0.1545, -0.2997,  0.3677,  0.2960,  0.2540, -0.3243,  0.2023],\n",
       "        [-0.4491,  0.1316,  0.0012, -0.1437, -0.1548, -0.2994,  0.3723,  0.1412,  0.2535, -0.3261,  0.2022],\n",
       "        [-0.4512,  0.1320,  0.0015, -0.1435, -0.1553, -0.2992,  0.3586,  0.2905,  0.2492, -0.3222,  0.2021],\n",
       "        [-0.4405,  0.1297,  0.0951, -0.1395, -0.1497, -0.2992,  0.3621,  0.2928,  0.2472, -0.3178,  0.2020],\n",
       "        [-0.4513,  0.1318,  0.0013, -0.1445, -0.0094, -0.2991,  0.3686,  0.2953,  0.2517, -0.3222,  0.2019],\n",
       "        [-0.4493,  0.1322,  0.0944, -0.1439, -0.0097, -0.2992,  0.3657,  0.1387,  0.2495, -0.3233,  0.2020]])"
      ]
     },
     "execution_count": 43,
     "metadata": {},
     "output_type": "execute_result"
    }
   ],
   "source": [
    "t_indep*coeffs"
   ]
  },
  {
   "cell_type": "markdown",
   "id": "7b994f49",
   "metadata": {},
   "source": [
    "Agora é possível fazer previzões do sistema, bastando somar os valores das colunas, porém essas previsões não querem dizer nada, pois os coeficientes que foram usados são aleatórios."
   ]
  },
  {
   "cell_type": "code",
   "execution_count": 44,
   "id": "645e9ac1",
   "metadata": {},
   "outputs": [
    {
     "data": {
      "text/plain": [
       "tensor([0.0638, 0.3319, 0.3380, 0.3227, 0.2327])"
      ]
     },
     "execution_count": 44,
     "metadata": {},
     "output_type": "execute_result"
    }
   ],
   "source": [
    "preds = (t_indep*coeffs).sum(axis=1)\n",
    "preds[:5]"
   ]
  },
  {
   "cell_type": "markdown",
   "id": "25c97ff1",
   "metadata": {},
   "source": [
    "Também podemos calcular o loss"
   ]
  },
  {
   "cell_type": "code",
   "execution_count": 45,
   "id": "ea85ca7f",
   "metadata": {},
   "outputs": [
    {
     "data": {
      "text/plain": [
       "tensor(10.2969, dtype=torch.float64)"
      ]
     },
     "execution_count": 45,
     "metadata": {},
     "output_type": "execute_result"
    }
   ],
   "source": [
    "loss = torch.abs(preds-t_dep).mean()\n",
    "loss"
   ]
  },
  {
   "cell_type": "markdown",
   "id": "2ab24384",
   "metadata": {},
   "source": [
    "Agora que podemos fazer previsões, podemos inserir esse código em uma função para continuar."
   ]
  },
  {
   "cell_type": "code",
   "execution_count": 46,
   "id": "aca207a0",
   "metadata": {},
   "outputs": [],
   "source": [
    "def calc_preds(coeffs, indeps): return (indeps*coeffs).sum(axis=1)\n",
    "def calc_loss(coeffs, indeps, deps): return torch.abs(calc_preds(coeffs, indeps)-deps).mean()"
   ]
  },
  {
   "cell_type": "markdown",
   "id": "70d072a1",
   "metadata": {},
   "source": [
    "## Gradiente de coeficiente"
   ]
  },
  {
   "cell_type": "markdown",
   "id": "663513ac",
   "metadata": {},
   "source": [
    "Podemos alterar o coeficiente seguindo os passos abaixo"
   ]
  },
  {
   "cell_type": "code",
   "execution_count": 47,
   "id": "425c745d",
   "metadata": {},
   "outputs": [
    {
     "data": {
      "text/plain": [
       "tensor([-0.4629,  0.1386,  0.2409, -0.2262, -0.2632, -0.3147,  0.4876,  0.3136,  0.2799, -0.4392,  0.2103], requires_grad=True)"
      ]
     },
     "execution_count": 47,
     "metadata": {},
     "output_type": "execute_result"
    }
   ],
   "source": [
    "coeffs.requires_grad_()"
   ]
  },
  {
   "cell_type": "code",
   "execution_count": 48,
   "id": "a6e99640",
   "metadata": {},
   "outputs": [
    {
     "data": {
      "text/plain": [
       "tensor(10.2969, dtype=torch.float64, grad_fn=<MeanBackward0>)"
      ]
     },
     "execution_count": 48,
     "metadata": {},
     "output_type": "execute_result"
    }
   ],
   "source": [
    "loss = calc_loss(coeffs, t_indep, t_dep)\n",
    "loss"
   ]
  },
  {
   "cell_type": "code",
   "execution_count": 77,
   "id": "65bda4d9",
   "metadata": {},
   "outputs": [
    {
     "ename": "RuntimeError",
     "evalue": "Trying to backward through the graph a second time (or directly access saved tensors after they have already been freed). Saved intermediate values of the graph are freed when you call .backward() or autograd.grad(). Specify retain_graph=True if you need to backward through the graph a second time or if you need to access saved tensors after calling backward.",
     "output_type": "error",
     "traceback": [
      "\u001b[0;31m---------------------------------------------------------------------------\u001b[0m",
      "\u001b[0;31mRuntimeError\u001b[0m                              Traceback (most recent call last)",
      "Cell \u001b[0;32mIn [77], line 1\u001b[0m\n\u001b[0;32m----> 1\u001b[0m \u001b[43mloss\u001b[49m\u001b[38;5;241;43m.\u001b[39;49m\u001b[43mbackward\u001b[49m\u001b[43m(\u001b[49m\u001b[43m)\u001b[49m\n",
      "File \u001b[0;32m~/.local/lib/python3.10/site-packages/torch/_tensor.py:487\u001b[0m, in \u001b[0;36mTensor.backward\u001b[0;34m(self, gradient, retain_graph, create_graph, inputs)\u001b[0m\n\u001b[1;32m    477\u001b[0m \u001b[38;5;28;01mif\u001b[39;00m has_torch_function_unary(\u001b[38;5;28mself\u001b[39m):\n\u001b[1;32m    478\u001b[0m     \u001b[38;5;28;01mreturn\u001b[39;00m handle_torch_function(\n\u001b[1;32m    479\u001b[0m         Tensor\u001b[38;5;241m.\u001b[39mbackward,\n\u001b[1;32m    480\u001b[0m         (\u001b[38;5;28mself\u001b[39m,),\n\u001b[0;32m   (...)\u001b[0m\n\u001b[1;32m    485\u001b[0m         inputs\u001b[38;5;241m=\u001b[39minputs,\n\u001b[1;32m    486\u001b[0m     )\n\u001b[0;32m--> 487\u001b[0m \u001b[43mtorch\u001b[49m\u001b[38;5;241;43m.\u001b[39;49m\u001b[43mautograd\u001b[49m\u001b[38;5;241;43m.\u001b[39;49m\u001b[43mbackward\u001b[49m\u001b[43m(\u001b[49m\n\u001b[1;32m    488\u001b[0m \u001b[43m    \u001b[49m\u001b[38;5;28;43mself\u001b[39;49m\u001b[43m,\u001b[49m\u001b[43m \u001b[49m\u001b[43mgradient\u001b[49m\u001b[43m,\u001b[49m\u001b[43m \u001b[49m\u001b[43mretain_graph\u001b[49m\u001b[43m,\u001b[49m\u001b[43m \u001b[49m\u001b[43mcreate_graph\u001b[49m\u001b[43m,\u001b[49m\u001b[43m \u001b[49m\u001b[43minputs\u001b[49m\u001b[38;5;241;43m=\u001b[39;49m\u001b[43minputs\u001b[49m\n\u001b[1;32m    489\u001b[0m \u001b[43m\u001b[49m\u001b[43m)\u001b[49m\n",
      "File \u001b[0;32m~/.local/lib/python3.10/site-packages/torch/autograd/__init__.py:197\u001b[0m, in \u001b[0;36mbackward\u001b[0;34m(tensors, grad_tensors, retain_graph, create_graph, grad_variables, inputs)\u001b[0m\n\u001b[1;32m    192\u001b[0m     retain_graph \u001b[38;5;241m=\u001b[39m create_graph\n\u001b[1;32m    194\u001b[0m \u001b[38;5;66;03m# The reason we repeat same the comment below is that\u001b[39;00m\n\u001b[1;32m    195\u001b[0m \u001b[38;5;66;03m# some Python versions print out the first line of a multi-line function\u001b[39;00m\n\u001b[1;32m    196\u001b[0m \u001b[38;5;66;03m# calls in the traceback and some print out the last line\u001b[39;00m\n\u001b[0;32m--> 197\u001b[0m \u001b[43mVariable\u001b[49m\u001b[38;5;241;43m.\u001b[39;49m\u001b[43m_execution_engine\u001b[49m\u001b[38;5;241;43m.\u001b[39;49m\u001b[43mrun_backward\u001b[49m\u001b[43m(\u001b[49m\u001b[43m  \u001b[49m\u001b[38;5;66;43;03m# Calls into the C++ engine to run the backward pass\u001b[39;49;00m\n\u001b[1;32m    198\u001b[0m \u001b[43m    \u001b[49m\u001b[43mtensors\u001b[49m\u001b[43m,\u001b[49m\u001b[43m \u001b[49m\u001b[43mgrad_tensors_\u001b[49m\u001b[43m,\u001b[49m\u001b[43m \u001b[49m\u001b[43mretain_graph\u001b[49m\u001b[43m,\u001b[49m\u001b[43m \u001b[49m\u001b[43mcreate_graph\u001b[49m\u001b[43m,\u001b[49m\u001b[43m \u001b[49m\u001b[43minputs\u001b[49m\u001b[43m,\u001b[49m\n\u001b[1;32m    199\u001b[0m \u001b[43m    \u001b[49m\u001b[43mallow_unreachable\u001b[49m\u001b[38;5;241;43m=\u001b[39;49m\u001b[38;5;28;43;01mTrue\u001b[39;49;00m\u001b[43m,\u001b[49m\u001b[43m \u001b[49m\u001b[43maccumulate_grad\u001b[49m\u001b[38;5;241;43m=\u001b[39;49m\u001b[38;5;28;43;01mTrue\u001b[39;49;00m\u001b[43m)\u001b[49m\n",
      "\u001b[0;31mRuntimeError\u001b[0m: Trying to backward through the graph a second time (or directly access saved tensors after they have already been freed). Saved intermediate values of the graph are freed when you call .backward() or autograd.grad(). Specify retain_graph=True if you need to backward through the graph a second time or if you need to access saved tensors after calling backward."
     ]
    }
   ],
   "source": [
    "loss.backward()"
   ]
  },
  {
   "cell_type": "code",
   "execution_count": 79,
   "id": "b0c236db",
   "metadata": {},
   "outputs": [
    {
     "data": {
      "text/plain": [
       "tensor([0., 0., 0., 0., 0., 0., 0., 0., 0., 0., 0.])"
      ]
     },
     "execution_count": 79,
     "metadata": {},
     "output_type": "execute_result"
    }
   ],
   "source": [
    "coeffs.grad"
   ]
  },
  {
   "cell_type": "code",
   "execution_count": 80,
   "id": "2352a225",
   "metadata": {},
   "outputs": [
    {
     "data": {
      "text/plain": [
       "tensor([-0.0220, -0.0164, -0.0494,  0.0944,  0.0899, -0.0118, -0.0072,  0.0137, -0.0285,  0.0110,  0.0024])"
      ]
     },
     "execution_count": 80,
     "metadata": {},
     "output_type": "execute_result"
    }
   ],
   "source": [
    "loss = calc_loss(coeffs, t_indep, t_dep)\n",
    "loss.backward()\n",
    "coeffs.grad"
   ]
  },
  {
   "cell_type": "code",
   "execution_count": 81,
   "id": "3f30f798",
   "metadata": {},
   "outputs": [
    {
     "name": "stdout",
     "output_type": "stream",
     "text": [
      "tensor(1.7533, dtype=torch.float64)\n"
     ]
    }
   ],
   "source": [
    "loss = calc_loss(coeffs, t_indep, t_dep)\n",
    "loss.backward()\n",
    "with torch.no_grad():\n",
    "    coeffs.sub_(coeffs.grad * 0.1)\n",
    "    coeffs.grad.zero_()\n",
    "    print(calc_loss(coeffs, t_indep, t_dep))"
   ]
  },
  {
   "cell_type": "markdown",
   "id": "27f98967",
   "metadata": {},
   "source": [
    "Como podemos ver, o loss caiu um pouco se comparado com a última vez."
   ]
  },
  {
   "cell_type": "markdown",
   "id": "bae92d42",
   "metadata": {},
   "source": [
    "# Treinando o modelo linear"
   ]
  },
  {
   "cell_type": "markdown",
   "id": "481666b7",
   "metadata": {},
   "source": [
    "Antes de começar o treinamento, devemos dividir os dados para treinamento e validação. Para isso, utilizaremos o random spliter, para separar os dados de forma aleatória."
   ]
  },
  {
   "cell_type": "code",
   "execution_count": 82,
   "id": "0cfb02f5",
   "metadata": {},
   "outputs": [],
   "source": [
    "trn_split,val_split=RandomSplitter(seed=42)(df)"
   ]
  },
  {
   "cell_type": "markdown",
   "id": "036df700",
   "metadata": {},
   "source": [
    "Podemos definir cada divisão agora:"
   ]
  },
  {
   "cell_type": "code",
   "execution_count": 83,
   "id": "b346d9ca",
   "metadata": {},
   "outputs": [
    {
     "data": {
      "text/plain": [
       "(2543, 635)"
      ]
     },
     "execution_count": 83,
     "metadata": {},
     "output_type": "execute_result"
    }
   ],
   "source": [
    "trn_indep,val_indep = t_indep[trn_split],t_indep[val_split]\n",
    "trn_dep,val_dep = t_dep[trn_split],t_dep[val_split]\n",
    "len(trn_indep),len(val_indep)"
   ]
  },
  {
   "cell_type": "markdown",
   "id": "25974202",
   "metadata": {},
   "source": [
    "Agora podemos definir os comandos de gradientes usados anteriormente em funções:"
   ]
  },
  {
   "cell_type": "code",
   "execution_count": 84,
   "id": "cc857856",
   "metadata": {},
   "outputs": [],
   "source": [
    "def update_coeffs(coeffs, lr):\n",
    "    coeffs.sub_(coeffs.grad * lr)\n",
    "    coeffs.grad.zero_()"
   ]
  },
  {
   "cell_type": "code",
   "execution_count": 85,
   "id": "2fe957ef",
   "metadata": {},
   "outputs": [],
   "source": [
    "def one_epoch(coeffs, lr):\n",
    "    loss = calc_loss(coeffs, trn_indep, trn_dep)\n",
    "    loss.backward()\n",
    "    with torch.no_grad(): update_coeffs(coeffs, lr)\n",
    "    print(f\"{loss:.3f}\", end=\"; \")"
   ]
  },
  {
   "cell_type": "code",
   "execution_count": 86,
   "id": "25170220",
   "metadata": {},
   "outputs": [],
   "source": [
    "def init_coeffs(): return (torch.rand(n_coeff)-0.5).requires_grad_()"
   ]
  },
  {
   "cell_type": "markdown",
   "id": "6a65d725",
   "metadata": {},
   "source": [
    "Agora temos as funções necessárias para treinar nosso modelo."
   ]
  },
  {
   "cell_type": "code",
   "execution_count": 87,
   "id": "6ab2cc3e",
   "metadata": {},
   "outputs": [],
   "source": [
    "def train_model(epochs=30, lr=0.01):\n",
    "    torch.manual_seed(442)\n",
    "    coeffs = init_coeffs()\n",
    "    for i in range(epochs): one_epoch(coeffs, lr=lr)\n",
    "    return coeffs"
   ]
  },
  {
   "cell_type": "markdown",
   "id": "97b47f9d",
   "metadata": {},
   "source": [
    "Agora podemos treinar nossso modelo, e em cada interação o loss será exibido. Se tudo tiver correto, esse loss deverá cair a cada iteração."
   ]
  },
  {
   "cell_type": "code",
   "execution_count": 89,
   "id": "3829e65a",
   "metadata": {},
   "outputs": [
    {
     "name": "stdout",
     "output_type": "stream",
     "text": [
      "10.330; 9.034; 7.737; 6.441; 5.145; 3.862; 2.717; 1.970; 1.824; 1.809; 1.804; 1.799; 1.794; 1.789; 1.784; 1.779; 1.775; 1.770; "
     ]
    }
   ],
   "source": [
    "coeffs = train_model(18, lr=0.2)"
   ]
  },
  {
   "cell_type": "markdown",
   "id": "4576ecfa",
   "metadata": {},
   "source": [
    "Como podemos ver o loss caiu consideravelmente, porém ele está acima de 1, oque é esquisito."
   ]
  },
  {
   "cell_type": "markdown",
   "id": "8b672497",
   "metadata": {},
   "source": [
    "## Medindo a acurácia"
   ]
  },
  {
   "cell_type": "markdown",
   "id": "6d0474cb",
   "metadata": {},
   "source": [
    "Para o modelo ficar completo, também precisamos calcular a acurácia do modelo. Para isso, primeiramente vamos fazer algumas previsões."
   ]
  },
  {
   "cell_type": "code",
   "execution_count": 100,
   "id": "c1a73e2c",
   "metadata": {},
   "outputs": [
    {
     "data": {
      "text/plain": [
       "tensor([1., 1., 1., 1., 1., 1., 1., 1., 1., 1., 1., 1., 1., 1., 1., 1., 1., 1., 1., 1., 1., 1., 1., 1., 1., 1., 1., 1., 1., 1., 1., 1., 1.,\n",
       "        1., 1., 1., 1., 1., 1., 1., 1., 1., 1., 1., 1., 1., 1., 1., 1., 1., 1., 1., 1., 1., 1., 1., 1., 1., 1., 1., 1., 1., 1., 1., 1., 1.,\n",
       "        1., 1., 1., 1., 1., 1., 1., 1., 1., 1., 1., 1., 1., 1., 1., 1., 1., 1., 1., 1., 1., 1., 1., 1., 1., 1., 1., 1., 1., 1., 1., 1., 1.,\n",
       "        1., 1., 1., 1., 1., 1., 1., 1., 1., 1., 1., 1., 1., 1., 1., 1., 1., 1., 1., 1., 1., 1., 1., 1., 1., 1., 1., 1., 1., 1., 1., 1., 1.,\n",
       "        1., 1., 1., 1., 1., 1., 1., 1., 1., 1., 1., 1., 1., 1., 1., 1., 1., 1., 1., 1., 1., 1., 1., 1., 1., 1., 1., 1., 1., 1., 1., 1., 1.,\n",
       "        1., 1., 1., 1., 1., 1., 1., 1., 1., 1., 1., 1., 1., 1., 1., 1., 1., 1., 1., 1., 1., 1., 1., 1., 1., 1., 1., 1., 1., 1., 1., 1., 1.,\n",
       "        1., 1., 1., 1., 1., 1., 1., 1., 1., 1., 1., 1., 1., 1., 1., 1., 1., 1., 1., 1., 1., 1., 1., 1., 1., 1., 1., 1., 1., 1., 1., 1., 1.,\n",
       "        1., 1., 1., 1., 1., 1., 1., 1., 1., 1., 1., 1., 1., 1., 1., 1., 1., 1., 1., 1., 1., 1., 1., 1., 1., 1., 1., 1., 1., 1., 1., 1., 1.,\n",
       "        1., 1., 1., 1., 1., 1., 1., 1., 1., 1., 1., 1., 1., 1., 1., 1., 1., 1., 1., 1., 1., 1., 1., 1., 1., 1., 1., 1., 1., 1., 1., 1., 1.,\n",
       "        1., 1., 1., 1., 1., 1., 1., 1., 1., 1., 1., 1., 1., 1., 1., 1., 1., 1., 1., 1., 1., 1., 1., 1., 1., 1., 1., 1., 1., 1., 1., 1., 1.,\n",
       "        1., 1., 1., 1., 1., 1., 1., 1., 1., 1., 1., 1., 1., 1., 1., 1., 1., 1., 1., 1., 1., 1., 1., 1., 1., 1., 1., 1., 1., 1., 1., 1., 1.,\n",
       "        1., 1., 1., 1., 1., 1., 1., 1., 1., 1., 1., 1., 1., 1., 1., 1., 1., 1., 1., 1., 1., 1., 1., 1., 1., 1., 1., 1., 1., 1., 1., 1., 1.,\n",
       "        1., 1., 1., 1., 1., 1., 1., 1., 1., 1., 1., 1., 1., 1., 1., 1., 1., 1., 1., 1., 1., 1., 1., 1., 1., 1., 1., 1., 1., 1., 1., 1., 1.,\n",
       "        1., 1., 1., 1., 1., 1., 1., 1., 1., 1., 1., 1., 1., 1., 1., 1., 1., 1., 1., 1., 1., 1., 1., 1., 1., 1., 1., 1., 1., 1., 1., 1., 1.,\n",
       "        1., 1., 1., 1., 1., 1., 1., 1., 1., 1., 1., 1., 1., 1., 1., 1., 1., 1., 1., 1., 1., 1., 1., 1., 1., 1., 1., 1., 1., 1., 1., 1., 1.,\n",
       "        1., 1., 1., 1., 1., 1., 1., 1., 1., 1., 1., 1., 1., 1., 1., 1., 1., 1., 1., 1., 1., 1., 1., 1., 1., 1., 1., 1., 1., 1., 1., 1., 1.,\n",
       "        1., 1., 1., 1., 1., 1., 1., 1., 1., 1., 1., 1., 1., 1., 1., 1., 1., 1., 1., 1., 1., 1., 1., 1., 1., 1., 1., 1., 1., 1., 1., 1., 1.,\n",
       "        1., 1., 1., 1., 1., 1., 1., 1., 1., 1., 1., 1., 1., 1., 1., 1., 1., 1., 1., 1., 1., 1., 1., 1., 1., 1., 1., 1., 1., 1., 1., 1., 1.,\n",
       "        1., 1., 1., 1., 1., 1., 1., 1., 1., 1., 1., 1., 1., 1., 1., 1., 1., 1., 1., 1., 1., 1., 1., 1., 1., 1., 1., 1., 1., 1., 1., 1., 1.,\n",
       "        1., 1., 1., 1., 1., 1., 1., 1.], grad_fn=<SigmoidBackward0>)"
      ]
     },
     "execution_count": 100,
     "metadata": {},
     "output_type": "execute_result"
    }
   ],
   "source": [
    "preds = calc_preds(coeffs, val_indep)\n",
    "preds"
   ]
  },
  {
   "cell_type": "code",
   "execution_count": 99,
   "id": "aa1689fe",
   "metadata": {},
   "outputs": [
    {
     "data": {
      "text/plain": [
       "tensor([False,  True,  True,  True,  True,  True,  True,  True,  True,  True, False,  True, False,  True, False,  True])"
      ]
     },
     "execution_count": 99,
     "metadata": {},
     "output_type": "execute_result"
    }
   ],
   "source": [
    "results = val_dep.bool()==(preds>9)\n",
    "results[:16]"
   ]
  },
  {
   "cell_type": "code",
   "execution_count": 98,
   "id": "99bcd06c",
   "metadata": {},
   "outputs": [
    {
     "data": {
      "text/plain": [
       "tensor(0.8283)"
      ]
     },
     "execution_count": 98,
     "metadata": {},
     "output_type": "execute_result"
    }
   ],
   "source": [
    "results.float().mean()"
   ]
  },
  {
   "cell_type": "code",
   "execution_count": 97,
   "id": "d30db544",
   "metadata": {},
   "outputs": [
    {
     "data": {
      "text/plain": [
       "tensor(0.)"
      ]
     },
     "execution_count": 97,
     "metadata": {},
     "output_type": "execute_result"
    }
   ],
   "source": [
    "def acc(coeffs): return (val_dep.bool()==(calc_preds(coeffs, val_indep)>9)).float().mean()\n",
    "acc(coeffs)"
   ]
  },
  {
   "cell_type": "markdown",
   "id": "55a80518",
   "metadata": {},
   "source": [
    "Como podemos ver, o modelo está medindo uma acurácia de 100% em todos valores, oque é altamente improvável. Isso provavelmente é um erro."
   ]
  },
  {
   "cell_type": "markdown",
   "id": "ca243b5f",
   "metadata": {},
   "source": [
    "# Problemas"
   ]
  },
  {
   "cell_type": "markdown",
   "id": "36fffecb",
   "metadata": {},
   "source": [
    "Infelizmente, a partir deste ponto é difícl confiar que o modelo está funcionando, como podemos ver nos resultados obtidos, todos os números sairam iguais. Isso aconteceu depois que foi aplicado o comando:\n",
    "> def calc_preds(coeffs, indeps): return torch.sigmoid((indeps*coeffs).sum(axis=1))\n",
    "\n",
    "Esse comando serve para deixar os resultados entre 1 e 0 utilizando a função sigmoid, porém isso fez com que todos os números ficassem iguais a 1, oque estragou completamente o sistema."
   ]
  }
 ],
 "metadata": {
  "kernelspec": {
   "display_name": "Python 3 (ipykernel)",
   "language": "python",
   "name": "python3"
  },
  "language_info": {
   "codemirror_mode": {
    "name": "ipython",
    "version": 3
   },
   "file_extension": ".py",
   "mimetype": "text/x-python",
   "name": "python",
   "nbconvert_exporter": "python",
   "pygments_lexer": "ipython3",
   "version": "3.10.6"
  }
 },
 "nbformat": 4,
 "nbformat_minor": 5
}
